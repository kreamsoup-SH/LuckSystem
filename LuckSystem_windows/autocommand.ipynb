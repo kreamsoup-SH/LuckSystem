{
 "cells": [
  {
   "cell_type": "code",
   "execution_count": 24,
   "metadata": {},
   "outputs": [],
   "source": [
    "import os\n",
    "\n",
    "# get file names from directory\n",
    "def get_file_names(target_folder_path):\n",
    "    file_names = os.listdir(target_folder_path)\n",
    "    return file_names\n"
   ]
  },
  {
   "cell_type": "code",
   "execution_count": 26,
   "metadata": {},
   "outputs": [
    {
     "name": "stdout",
     "output_type": "stream",
     "text": [
      "Done : LuckSystem.exe font edit -s output/temp/ゴシック11 -S output/temp/info11 -f C24PN.ttf -o output/font-ire/ゴシック11 -O output/font-ire/info11 -r\n",
      "Done : LuckSystem.exe font edit -s output/temp/ゴシック12 -S output/temp/info12 -f C24PN.ttf -o output/font-ire/ゴシック12 -O output/font-ire/info12 -r\n",
      "Done : LuckSystem.exe font edit -s output/temp/ゴシック16 -S output/temp/info16 -f C24PN.ttf -o output/font-ire/ゴシック16 -O output/font-ire/info16 -r\n",
      "Done : LuckSystem.exe font edit -s output/temp/ゴシック33 -S output/temp/info33 -f C24PN.ttf -o output/font-ire/ゴシック33 -O output/font-ire/info33 -r\n",
      "Done : LuckSystem.exe font edit -s output/temp/ゴシック40 -S output/temp/info40 -f C24PN.ttf -o output/font-ire/ゴシック40 -O output/font-ire/info40 -r\n",
      "Done : LuckSystem.exe font edit -s output/temp/ゴシック41 -S output/temp/info41 -f C24PN.ttf -o output/font-ire/ゴシック41 -O output/font-ire/info41 -r\n",
      "Done : LuckSystem.exe font edit -s output/temp/ゴシック72 -S output/temp/info72 -f C24PN.ttf -o output/font-ire/ゴシック72 -O output/font-ire/info72 -r\n",
      "Done : LuckSystem.exe font edit -s output/temp/モダン11 -S output/font-ire/info11 -f C24PN.ttf -o output/font-ire/モダン11 -O output/font-ire/info11 -r\n",
      "Done : LuckSystem.exe font edit -s output/temp/モダン12 -S output/font-ire/info12 -f C24PN.ttf -o output/font-ire/モダン12 -O output/font-ire/info12 -r\n",
      "Done : LuckSystem.exe font edit -s output/temp/モダン16 -S output/font-ire/info16 -f C24PN.ttf -o output/font-ire/モダン16 -O output/font-ire/info16 -r\n",
      "Done : LuckSystem.exe font edit -s output/temp/モダン33 -S output/font-ire/info33 -f C24PN.ttf -o output/font-ire/モダン33 -O output/font-ire/info33 -r\n",
      "Done : LuckSystem.exe font edit -s output/temp/モダン40 -S output/font-ire/info40 -f C24PN.ttf -o output/font-ire/モダン40 -O output/font-ire/info40 -r\n",
      "Done : LuckSystem.exe font edit -s output/temp/モダン41 -S output/font-ire/info41 -f C24PN.ttf -o output/font-ire/モダン41 -O output/font-ire/info41 -r\n",
      "Done : LuckSystem.exe font edit -s output/temp/モダン72 -S output/font-ire/info72 -f C24PN.ttf -o output/font-ire/モダン72 -O output/font-ire/info72 -r\n",
      "Done : LuckSystem.exe font edit -s output/temp/丸ゴシック11 -S output/font-ire/info11 -f C24PN.ttf -o output/font-ire/丸ゴシック11 -O output/font-ire/info11 -r\n",
      "Done : LuckSystem.exe font edit -s output/temp/丸ゴシック12 -S output/font-ire/info12 -f C24PN.ttf -o output/font-ire/丸ゴシック12 -O output/font-ire/info12 -r\n",
      "Done : LuckSystem.exe font edit -s output/temp/丸ゴシック16 -S output/font-ire/info16 -f C24PN.ttf -o output/font-ire/丸ゴシック16 -O output/font-ire/info16 -r\n",
      "Done : LuckSystem.exe font edit -s output/temp/丸ゴシック33 -S output/font-ire/info33 -f C24PN.ttf -o output/font-ire/丸ゴシック33 -O output/font-ire/info33 -r\n",
      "Done : LuckSystem.exe font edit -s output/temp/丸ゴシック40 -S output/font-ire/info40 -f C24PN.ttf -o output/font-ire/丸ゴシック40 -O output/font-ire/info40 -r\n",
      "Done : LuckSystem.exe font edit -s output/temp/丸ゴシック41 -S output/font-ire/info41 -f C24PN.ttf -o output/font-ire/丸ゴシック41 -O output/font-ire/info41 -r\n",
      "Done : LuckSystem.exe font edit -s output/temp/丸ゴシック72 -S output/font-ire/info72 -f C24PN.ttf -o output/font-ire/丸ゴシック72 -O output/font-ire/info72 -r\n",
      "Done : LuckSystem.exe font edit -s output/temp/太丸ゴシック11 -S output/font-ire/info11 -f C24PN.ttf -o output/font-ire/太丸ゴシック11 -O output/font-ire/info11 -r\n",
      "Done : LuckSystem.exe font edit -s output/temp/太丸ゴシック12 -S output/font-ire/info12 -f C24PN.ttf -o output/font-ire/太丸ゴシック12 -O output/font-ire/info12 -r\n",
      "Done : LuckSystem.exe font edit -s output/temp/太丸ゴシック16 -S output/font-ire/info16 -f C24PN.ttf -o output/font-ire/太丸ゴシック16 -O output/font-ire/info16 -r\n",
      "Done : LuckSystem.exe font edit -s output/temp/太丸ゴシック33 -S output/font-ire/info33 -f C24PN.ttf -o output/font-ire/太丸ゴシック33 -O output/font-ire/info33 -r\n",
      "Done : LuckSystem.exe font edit -s output/temp/太丸ゴシック40 -S output/font-ire/info40 -f C24PN.ttf -o output/font-ire/太丸ゴシック40 -O output/font-ire/info40 -r\n",
      "Done : LuckSystem.exe font edit -s output/temp/太丸ゴシック41 -S output/font-ire/info41 -f C24PN.ttf -o output/font-ire/太丸ゴシック41 -O output/font-ire/info41 -r\n",
      "Done : LuckSystem.exe font edit -s output/temp/太丸ゴシック72 -S output/font-ire/info72 -f C24PN.ttf -o output/font-ire/太丸ゴシック72 -O output/font-ire/info72 -r\n",
      "Done : LuckSystem.exe font edit -s output/temp/明朝11 -S output/font-ire/info11 -f C24PN.ttf -o output/font-ire/明朝11 -O output/font-ire/info11 -r\n",
      "Done : LuckSystem.exe font edit -s output/temp/明朝12 -S output/font-ire/info12 -f C24PN.ttf -o output/font-ire/明朝12 -O output/font-ire/info12 -r\n",
      "Done : LuckSystem.exe font edit -s output/temp/明朝16 -S output/font-ire/info16 -f C24PN.ttf -o output/font-ire/明朝16 -O output/font-ire/info16 -r\n",
      "Done : LuckSystem.exe font edit -s output/temp/明朝33 -S output/font-ire/info33 -f C24PN.ttf -o output/font-ire/明朝33 -O output/font-ire/info33 -r\n",
      "Done : LuckSystem.exe font edit -s output/temp/明朝40 -S output/font-ire/info40 -f C24PN.ttf -o output/font-ire/明朝40 -O output/font-ire/info40 -r\n",
      "Done : LuckSystem.exe font edit -s output/temp/明朝41 -S output/font-ire/info41 -f C24PN.ttf -o output/font-ire/明朝41 -O output/font-ire/info41 -r\n",
      "Done : LuckSystem.exe font edit -s output/temp/明朝72 -S output/font-ire/info72 -f C24PN.ttf -o output/font-ire/明朝72 -O output/font-ire/info72 -r\n"
     ]
    }
   ],
   "source": [
    "INPUT_PATH = \"output/temp\"\n",
    "OUTPUT_PATH = \"output/font-ire\"\n",
    "TTF_FILE = \"C24PN.ttf\"\n",
    "\n",
    "files = get_file_names(INPUT_PATH)\n",
    "for file in files:\n",
    "    # if file is start with \"info\" then skip\n",
    "    if file.startswith(\"info\"):\n",
    "        continue\n",
    "    # if there is file name \"info{file[-2:]}\" in OUTPUT_PATH then tempvalue=1 else tempvalue=0\n",
    "    info_file = f\"info{file[-2:]}\"\n",
    "    if os.path.isfile(f\"{OUTPUT_PATH}/{info_file}\"):\n",
    "        S_info_file = f\"{OUTPUT_PATH}/{info_file}\"\n",
    "    else:\n",
    "        S_info_file = f\"{INPUT_PATH}/{info_file}\"\n",
    "\n",
    "    command = f\"LuckSystem.exe font edit -s {INPUT_PATH}/{file} -S {S_info_file} -f {TTF_FILE} -o {OUTPUT_PATH}/{file} -O {OUTPUT_PATH}/info{file[-2:]} -r\"\n",
    "    os.system(command)\n",
    "    print(f\"Done : {command}\")"
   ]
  },
  {
   "cell_type": "code",
   "execution_count": 34,
   "metadata": {},
   "outputs": [
    {
     "name": "stdout",
     "output_type": "stream",
     "text": [
      "Done : LuckSystem.exe pak replace -s tempdir/previnput.PAK -o tempdir/nextinput.PAK -i output/font-ire/info11 --name info11\n",
      "Done : LuckSystem.exe pak replace -s tempdir/previnput.PAK -o tempdir/nextinput.PAK -i output/font-ire/info12 --name info12\n",
      "Done : LuckSystem.exe pak replace -s tempdir/previnput.PAK -o tempdir/nextinput.PAK -i output/font-ire/info16 --name info16\n",
      "Done : LuckSystem.exe pak replace -s tempdir/previnput.PAK -o tempdir/nextinput.PAK -i output/font-ire/info33 --name info33\n",
      "Done : LuckSystem.exe pak replace -s tempdir/previnput.PAK -o tempdir/nextinput.PAK -i output/font-ire/info40 --name info40\n",
      "Done : LuckSystem.exe pak replace -s tempdir/previnput.PAK -o tempdir/nextinput.PAK -i output/font-ire/info41 --name info41\n",
      "Done : LuckSystem.exe pak replace -s tempdir/previnput.PAK -o tempdir/nextinput.PAK -i output/font-ire/info72 --name info72\n",
      "Done : LuckSystem.exe pak replace -s tempdir/previnput.PAK -o tempdir/nextinput.PAK -i output/font-ire/ゴシック11 --name ゴシック11\n",
      "Done : LuckSystem.exe pak replace -s tempdir/previnput.PAK -o tempdir/nextinput.PAK -i output/font-ire/ゴシック12 --name ゴシック12\n",
      "Done : LuckSystem.exe pak replace -s tempdir/previnput.PAK -o tempdir/nextinput.PAK -i output/font-ire/ゴシック16 --name ゴシック16\n",
      "Done : LuckSystem.exe pak replace -s tempdir/previnput.PAK -o tempdir/nextinput.PAK -i output/font-ire/ゴシック33 --name ゴシック33\n",
      "Done : LuckSystem.exe pak replace -s tempdir/previnput.PAK -o tempdir/nextinput.PAK -i output/font-ire/ゴシック40 --name ゴシック40\n",
      "Done : LuckSystem.exe pak replace -s tempdir/previnput.PAK -o tempdir/nextinput.PAK -i output/font-ire/ゴシック41 --name ゴシック41\n",
      "Done : LuckSystem.exe pak replace -s tempdir/previnput.PAK -o tempdir/nextinput.PAK -i output/font-ire/ゴシック72 --name ゴシック72\n",
      "Done : LuckSystem.exe pak replace -s tempdir/previnput.PAK -o tempdir/nextinput.PAK -i output/font-ire/モダン11 --name モダン11\n",
      "Done : LuckSystem.exe pak replace -s tempdir/previnput.PAK -o tempdir/nextinput.PAK -i output/font-ire/モダン12 --name モダン12\n",
      "Done : LuckSystem.exe pak replace -s tempdir/previnput.PAK -o tempdir/nextinput.PAK -i output/font-ire/モダン16 --name モダン16\n",
      "Done : LuckSystem.exe pak replace -s tempdir/previnput.PAK -o tempdir/nextinput.PAK -i output/font-ire/モダン33 --name モダン33\n",
      "Done : LuckSystem.exe pak replace -s tempdir/previnput.PAK -o tempdir/nextinput.PAK -i output/font-ire/モダン40 --name モダン40\n",
      "Done : LuckSystem.exe pak replace -s tempdir/previnput.PAK -o tempdir/nextinput.PAK -i output/font-ire/モダン41 --name モダン41\n",
      "Done : LuckSystem.exe pak replace -s tempdir/previnput.PAK -o tempdir/nextinput.PAK -i output/font-ire/モダン72 --name モダン72\n",
      "Done : LuckSystem.exe pak replace -s tempdir/previnput.PAK -o tempdir/nextinput.PAK -i output/font-ire/丸ゴシック11 --name 丸ゴシック11\n",
      "Done : LuckSystem.exe pak replace -s tempdir/previnput.PAK -o tempdir/nextinput.PAK -i output/font-ire/丸ゴシック12 --name 丸ゴシック12\n",
      "Done : LuckSystem.exe pak replace -s tempdir/previnput.PAK -o tempdir/nextinput.PAK -i output/font-ire/丸ゴシック16 --name 丸ゴシック16\n",
      "Done : LuckSystem.exe pak replace -s tempdir/previnput.PAK -o tempdir/nextinput.PAK -i output/font-ire/丸ゴシック33 --name 丸ゴシック33\n",
      "Done : LuckSystem.exe pak replace -s tempdir/previnput.PAK -o tempdir/nextinput.PAK -i output/font-ire/丸ゴシック40 --name 丸ゴシック40\n",
      "Done : LuckSystem.exe pak replace -s tempdir/previnput.PAK -o tempdir/nextinput.PAK -i output/font-ire/丸ゴシック41 --name 丸ゴシック41\n",
      "Done : LuckSystem.exe pak replace -s tempdir/previnput.PAK -o tempdir/nextinput.PAK -i output/font-ire/丸ゴシック72 --name 丸ゴシック72\n",
      "Done : LuckSystem.exe pak replace -s tempdir/previnput.PAK -o tempdir/nextinput.PAK -i output/font-ire/太丸ゴシック11 --name 太丸ゴシック11\n",
      "Done : LuckSystem.exe pak replace -s tempdir/previnput.PAK -o tempdir/nextinput.PAK -i output/font-ire/太丸ゴシック12 --name 太丸ゴシック12\n",
      "Done : LuckSystem.exe pak replace -s tempdir/previnput.PAK -o tempdir/nextinput.PAK -i output/font-ire/太丸ゴシック16 --name 太丸ゴシック16\n",
      "Done : LuckSystem.exe pak replace -s tempdir/previnput.PAK -o tempdir/nextinput.PAK -i output/font-ire/太丸ゴシック33 --name 太丸ゴシック33\n",
      "Done : LuckSystem.exe pak replace -s tempdir/previnput.PAK -o tempdir/nextinput.PAK -i output/font-ire/太丸ゴシック40 --name 太丸ゴシック40\n",
      "Done : LuckSystem.exe pak replace -s tempdir/previnput.PAK -o tempdir/nextinput.PAK -i output/font-ire/太丸ゴシック41 --name 太丸ゴシック41\n",
      "Done : LuckSystem.exe pak replace -s tempdir/previnput.PAK -o tempdir/nextinput.PAK -i output/font-ire/太丸ゴシック72 --name 太丸ゴシック72\n",
      "Done : LuckSystem.exe pak replace -s tempdir/previnput.PAK -o tempdir/nextinput.PAK -i output/font-ire/明朝11 --name 明朝11\n",
      "Done : LuckSystem.exe pak replace -s tempdir/previnput.PAK -o tempdir/nextinput.PAK -i output/font-ire/明朝12 --name 明朝12\n",
      "Done : LuckSystem.exe pak replace -s tempdir/previnput.PAK -o tempdir/nextinput.PAK -i output/font-ire/明朝16 --name 明朝16\n",
      "Done : LuckSystem.exe pak replace -s tempdir/previnput.PAK -o tempdir/nextinput.PAK -i output/font-ire/明朝33 --name 明朝33\n",
      "Done : LuckSystem.exe pak replace -s tempdir/previnput.PAK -o tempdir/nextinput.PAK -i output/font-ire/明朝40 --name 明朝40\n",
      "Done : LuckSystem.exe pak replace -s tempdir/previnput.PAK -o tempdir/nextinput.PAK -i output/font-ire/明朝41 --name 明朝41\n",
      "Done : LuckSystem.exe pak replace -s tempdir/previnput.PAK -o tempdir/nextinput.PAK -i output/font-ire/明朝72 --name 明朝72\n",
      "Done : cp tempdir/nextinput.PAK output/FONT.out.PAK\n"
     ]
    }
   ],
   "source": [
    "FILES_ROOT = \"output/font-ire\"\n",
    "ORIGIN_ROOT = \".\"\n",
    "FONTPAK_ORIGIN = \"FONT_copy.PAK\"\n",
    "OUTPUT_ROOT = \"output\"\n",
    "FONTPAK_OUTPUT = \"FONT.out.PAK\"\n",
    "\n",
    "files = get_file_names(FILES_ROOT)\n",
    "# if temp folder is not exist then create\n",
    "if not os.path.isdir(\"tempdir\"):\n",
    "    os.mkdir(\"tempdir\")\n",
    "    os.system(f\"cp {ORIGIN_ROOT}/{FONTPAK_ORIGIN} tempdir/previnput.PAK\")\n",
    "\n",
    "for file in files:\n",
    "    temp_input = f\"tempdir/previnput.PAK\"\n",
    "    temp_output = f\"tempdir/nextinput.PAK\"\n",
    "    command = f\"LuckSystem.exe pak replace -s {temp_input} -o {temp_output} -i {FILES_ROOT}/{file} --name {file}\"\n",
    "    os.system(command)\n",
    "    print(f\"Done : {command}\")\n",
    "command = f\"cp tempdir/nextinput.PAK {OUTPUT_ROOT}/{FONTPAK_OUTPUT}\"\n",
    "os.system(command)\n",
    "print(f\"Done : {command}\")"
   ]
  }
 ],
 "metadata": {
  "kernelspec": {
   "display_name": "tsui",
   "language": "python",
   "name": "python3"
  },
  "language_info": {
   "codemirror_mode": {
    "name": "ipython",
    "version": 3
   },
   "file_extension": ".py",
   "mimetype": "text/x-python",
   "name": "python",
   "nbconvert_exporter": "python",
   "pygments_lexer": "ipython3",
   "version": "3.10.13"
  }
 },
 "nbformat": 4,
 "nbformat_minor": 2
}
